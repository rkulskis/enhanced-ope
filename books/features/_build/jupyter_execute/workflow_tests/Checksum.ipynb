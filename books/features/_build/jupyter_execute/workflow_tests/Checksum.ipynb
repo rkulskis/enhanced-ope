{
 "cells": [
  {
   "cell_type": "markdown",
   "id": "c8127f84-6227-4932-98da-dc745c2818e9",
   "metadata": {},
   "source": [
    "# Checksum"
   ]
  },
  {
   "cell_type": "markdown",
   "id": "9c8e70eb",
   "metadata": {},
   "source": [
    "The checksum test generates a 64 character hash to verify that the notebook's container image is correct.\n",
    "It compares an existing hash inside `/base/config.yml` with a locally generated hash-generated sum using the command:\n",
    "\n",
    "`find / -not \\( -path /proc -prune \\) -not \\( -path /sys -prune \\) -type f -exec stat -c '%n %a' {} + | LC_ALL=C sort | sha256sum | cut -c 1-64`\n",
    "\n",
    "This command traverses through the file system of the user's container, excluding `/proc` and `/sys` directories. For all other directory paths, the name and permissions are used to calculate the checksum.\n",
    "\n",
    "In the event of an checksum failure, please verify that:\n",
    "- The checksum in `/base/config.yml` is up-to-date with the latest version of the container.\n",
    "- No additional directrory or permission modifications have been made since the last generated checksum."
   ]
  }
 ],
 "metadata": {
  "language_info": {
   "name": "python"
  }
 },
 "nbformat": 4,
 "nbformat_minor": 5
}