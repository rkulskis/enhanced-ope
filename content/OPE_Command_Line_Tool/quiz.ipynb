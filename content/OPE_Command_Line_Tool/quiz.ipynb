{
 "cells": [
  {
   "cell_type": "code",
   "execution_count": null,
   "id": "397a855b",
   "metadata": {},
   "outputs": [],
   "source": [
    "Quiz"
   ]
  },
  {
   "cell_type": "code",
   "execution_count": 3,
   "id": "b1da04f1",
   "metadata": {},
   "outputs": [
    {
     "data": {
      "application/vnd.jupyter.widget-view+json": {
       "model_id": "c882c44dd9ce4cf18e2ae42922602344",
       "version_major": 2,
       "version_minor": 0
      },
      "text/plain": [
       "Label(value='who am I')"
      ]
     },
     "metadata": {},
     "output_type": "display_data"
    },
    {
     "data": {
      "application/vnd.jupyter.widget-view+json": {
       "model_id": "e9cfde686b0647b9990d16555c38b7bb",
       "version_major": 2,
       "version_minor": 0
      },
      "text/plain": [
       "RadioButtons(description='Options: ', options=('Yuxi Ge', 'Elon Musk', 'Mark Zuckerberg', 'Bill Gates'), value…"
      ]
     },
     "metadata": {},
     "output_type": "display_data"
    },
    {
     "data": {
      "application/vnd.jupyter.widget-view+json": {
       "model_id": "0cd30f6047b9493facf677908c89477a",
       "version_major": 2,
       "version_minor": 0
      },
      "text/plain": [
       "Button(description='submit', style=ButtonStyle())"
      ]
     },
     "metadata": {},
     "output_type": "display_data"
    },
    {
     "name": "stdout",
     "output_type": "stream",
     "text": [
      "You are right! \n"
     ]
    }
   ],
   "source": [
    "import ipywidgets as widgets\n",
    "from IPython.display import display, clear_output\n",
    "\n",
    "question = widgets.Label(value=\"who am I\")\n",
    "options = widgets.RadioButtons(\n",
    "    options=['Yuxi Ge', 'Elon Musk', 'Mark Zuckerberg', 'Bill Gates'],\n",
    "    description='Options: ',\n",
    "    disabled=False\n",
    ")\n",
    "\n",
    "submit_button = widgets.Button(description=\"submit\")\n",
    "\n",
    "display(question, options, submit_button)\n",
    "\n",
    "def on_submit_clicked(b):\n",
    "    clear_output()\n",
    "    display(question, options, submit_button)\n",
    "    if options.value == 'Yuxi Ge':\n",
    "        print(\"You are right! \")\n",
    "    else:\n",
    "        print(\"No. I am Yuxi Ge.\")\n",
    "\n",
    "\n",
    "submit_button.on_click(on_submit_clicked)\n"
   ]
  },
  {
   "cell_type": "code",
   "execution_count": null,
   "id": "e48ea137",
   "metadata": {},
   "outputs": [],
   "source": []
  }
 ],
 "metadata": {
  "kernelspec": {
   "display_name": "Python 3 (ipykernel)",
   "language": "python",
   "name": "python3"
  },
  "language_info": {
   "codemirror_mode": {
    "name": "ipython",
    "version": 3
   },
   "file_extension": ".py",
   "mimetype": "text/x-python",
   "name": "python",
   "nbconvert_exporter": "python",
   "pygments_lexer": "ipython3",
   "version": "3.11.3"
  }
 },
 "nbformat": 4,
 "nbformat_minor": 5
}
