{
 "cells": [
  {
   "cell_type": "markdown",
   "id": "cdf442e6",
   "metadata": {},
   "source": [
    "#### Quiz"
   ]
  },
  {
   "cell_type": "code",
   "execution_count": null,
   "id": "28bafd5f",
   "metadata": {
    "scrolled": true
   },
   "outputs": [],
   "source": [
    "from IPython.display import HTML\n",
    "\n",
    "HTML('''<script>\n",
    "$(document).ready(function(){\n",
    "    $(\"div.input\").hide();\n",
    "});\n",
    "</script>\n",
    "<style>\n",
    "div.input {\n",
    "    display:none;\n",
    "}\n",
    "</style>\n",
    "''')\n"
   ]
  },
  {
   "cell_type": "code",
   "execution_count": null,
   "id": "b1da04f1",
   "metadata": {
    "scrolled": true
   },
   "outputs": [],
   "source": [
    "import ipywidgets as widgets\n",
    "from IPython.display import display, clear_output\n",
    "\n",
    "question = widgets.Label(value=\"who am I?\")\n",
    "options = widgets.RadioButtons(\n",
    "    options=['Yuxi Ge', 'Elon Musk', 'Mark Zuckerberg', 'Bill Gates'],\n",
    "    description='Options: ',\n",
    "    disabled=False\n",
    ")\n",
    "\n",
    "submit_button = widgets.Button(description=\"submit\")\n",
    "\n",
    "display(question, options, submit_button)\n",
    "\n",
    "def on_submit_clicked(b):\n",
    "    clear_output()\n",
    "    display(question, options, submit_button)\n",
    "    if options.value == 'Yuxi Ge':\n",
    "        print(\"You are right! \")\n",
    "    else:\n",
    "        print(\"No. I am Yuxi Ge.\")\n",
    "\n",
    "\n",
    "submit_button.on_click(on_submit_clicked)\n"
   ]
  },
  {
   "cell_type": "code",
   "execution_count": null,
   "id": "2f93bbae",
   "metadata": {},
   "outputs": [],
   "source": []
  },
  {
   "cell_type": "code",
   "execution_count": null,
   "id": "c11dcb4e",
   "metadata": {},
   "outputs": [],
   "source": []
  },
  {
   "cell_type": "code",
   "execution_count": null,
   "id": "6370be32",
   "metadata": {},
   "outputs": [],
   "source": []
  },
  {
   "cell_type": "code",
   "execution_count": 9,
   "id": "2a5aecb6",
   "metadata": {},
   "outputs": [
    {
     "data": {
      "text/html": [
       "<script>\n",
       "$(document).ready(function(){\n",
       "    $(\"div.input\").show();\n",
       "});\n",
       "</script>\n"
      ],
      "text/plain": [
       "<IPython.core.display.HTML object>"
      ]
     },
     "execution_count": 9,
     "metadata": {},
     "output_type": "execute_result"
    }
   ],
   "source": [
    "from IPython.display import HTML\n",
    "\n",
    "HTML('''<script>\n",
    "$(document).ready(function(){\n",
    "    $(\"div.input\").show();\n",
    "});\n",
    "</script>\n",
    "''')\n"
   ]
  },
  {
   "cell_type": "code",
   "execution_count": null,
   "id": "3f37796a",
   "metadata": {},
   "outputs": [],
   "source": []
  }
 ],
 "metadata": {
  "kernelspec": {
   "display_name": "Python 3 (ipykernel)",
   "language": "python",
   "name": "python3"
  },
  "language_info": {
   "codemirror_mode": {
    "name": "ipython",
    "version": 3
   },
   "file_extension": ".py",
   "mimetype": "text/x-python",
   "name": "python",
   "nbconvert_exporter": "python",
   "pygments_lexer": "ipython3",
   "version": "3.11.3"
  }
 },
 "nbformat": 4,
 "nbformat_minor": 5
}
